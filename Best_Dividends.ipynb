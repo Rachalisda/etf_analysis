{
  "nbformat": 4,
  "nbformat_minor": 0,
  "metadata": {
    "colab": {
      "provenance": [],
      "authorship_tag": "ABX9TyNLe62aSnc7Sx4Xjh6yuioz",
      "include_colab_link": true
    },
    "kernelspec": {
      "name": "python3",
      "display_name": "Python 3"
    },
    "language_info": {
      "name": "python"
    }
  },
  "cells": [
    {
      "cell_type": "markdown",
      "metadata": {
        "id": "view-in-github",
        "colab_type": "text"
      },
      "source": [
        "<a href=\"https://colab.research.google.com/github/Rachalisda/etf_analysis/blob/main/Best_Dividends.ipynb\" target=\"_parent\"><img src=\"https://colab.research.google.com/assets/colab-badge.svg\" alt=\"Open In Colab\"/></a>"
      ]
    },
    {
      "cell_type": "markdown",
      "source": [
        "Portfolio management to calculate the best ETFs to buy\n",
        "1. Find best portfolio that maximizes profit and mimizes risk\n",
        "2. Update the system bi-monthly, or find another length of time to check in to maximize profits\n",
        "3. Build a dashboard to display this - essentially creating an auto etf screener\n",
        "\n",
        "4. Use and show it off!"
      ],
      "metadata": {
        "id": "Tq9wKD9E2w1p"
      }
    },
    {
      "cell_type": "code",
      "source": [
        "import pandas as pd\n",
        "# Variables\n",
        "time_frame = '3mo'\n",
        "initial_investment = 5000\n",
        "\n",
        "# Define the portfolio DataFrame with ETF tickers and investment amounts\n",
        "portfolio = pd.DataFrame({\n",
        "    #'ETF': ['CUBE', 'EEMV', 'HTGC', 'JEPI', 'JEPQ', 'MAIN', 'QQQM', 'SCHD','IBIT','SHLD','RING','IAK','MAGS','SMH','USD','DHT','FBL','VUG','VGT','MGK','SFY','XSD','VTI','SPY','IVV','VOO','VTI','QQQ','VEA','VUG','VTV','IEFA','AGG','BND','IWF','IJH','SBR']\n",
        "    #'ETF': ['CUBE', 'RING', 'SHLD', 'IAK', 'AGG', 'BND', 'SCHD', 'EEMV', 'VTV', 'JEPI','DIA','VTI','VTWO','QQQ','NASDX','SWPPX','IVV','SPY','VOO','FNILX']\n",
        "    'ETF' : [\n",
        "    \"CUBE\", \"RING\", \"SHLD\", \"IAK\", \"AGG\", \"BND\", \"SCHD\", \"EEMV\", \"VTV\", \"JEPI\",\n",
        "    \"DIA\", \"VTI\", \"VTWO\", \"QQQ\", \"NASDX\", \"SWPPX\", \"IVV\", \"SPY\", \"VOO\", \"FNILX\",\n",
        "    \"HTGC\", \"JEPQ\", \"MAIN\", \"QQQM\", \"IBIT\", \"MAGS\", \"SMH\", \"USD\", \"DHT\", \"FBL\",\n",
        "    \"VUG\", \"VGT\", \"MGK\", \"SFY\", \"XSD\", \"VEA\", \"IEFA\", \"IWF\", \"IJH\", \"SBR\"\n",
        "]\n",
        "    #'Investment': [33.35, 777.60, 296.80, 575.30, 102.72, 48.63, 369.40, 574.00, 1000.00]  # Example values\n",
        "})"
      ],
      "metadata": {
        "id": "fDatG_Yz-96t"
      },
      "execution_count": 7,
      "outputs": []
    },
    {
      "cell_type": "code",
      "source": [
        "# Calculate average dividend yield for each ETF\n",
        "etf_features = pd.DataFrame()\n",
        "\n",
        "for ticker in portfolio['ETF'].to_list():\n",
        "    price_data = etf_data[ticker]\n",
        "\n",
        "    # Calculate average dividend yield\n",
        "    avg_yield = price_data['Dividend_Yield'].mean()\n",
        "\n",
        "    # Calculate average risk-adjusted score\n",
        "    avg_risk_adjusted_score = price_data['Risk_Adjusted_Score'].mean()\n",
        "\n",
        "    # Calculate historical return (percent change over 5 years)\n",
        "    historical_return = (price_data['Close'].iloc[-1] / price_data['Close'].iloc[0]) - 1\n",
        "\n",
        "    # Calculate volatility (standard deviation of daily returns)\n",
        "    volatility = price_data['Close'].pct_change().std()\n",
        "\n",
        "    # lower expense reatios often provide better net returns\n",
        "    expense_ratio = stock.info.get('expenseRatio', None)  # Expense ratio of the ETF\n",
        "    # Growth rate stability\n",
        "    div_growth_std_dev = price_data['Dividends'].pct_change().std()  # Standard deviation of dividend growth rate\n",
        "\n",
        "\n",
        "    # find if the dividend yield is stable\n",
        "    yield_std_dev = price_data['Dividend_Yield'].std()  # Standard deviation of dividend yield\n",
        "\n",
        "  # Additional metrics\n",
        "    p_e_ratio = stock.info.get('trailingPE', None)  # Price-to-Earnings Ratio\n",
        "    p_b_ratio = stock.info.get('priceToBook', None)  # Price-to-Book Ratio\n",
        "    peg_ratio = stock.info.get('pegRatio', None)  # PEG Ratio\n",
        "    avg_dividend_growth = price_data['Dividends'].pct_change().mean()  # Dividend Growth Rate\n",
        "    dividend_payout_ratio = stock.info.get('payoutRatio', None)  # Dividend Payout Ratio\n",
        "    sharpe_ratio = historical_return / volatility if volatility != 0 else None  # Sharpe Ratio\n",
        "\n",
        "    # Define the single row of data\n",
        "    row = pd.DataFrame({\n",
        "        'ETF': [ticker],  # Use a list for single value\n",
        "        'Average_Dividend_Yield': [avg_yield],\n",
        "        'Average_Risk_Adjusted_Score': [avg_risk_adjusted_score],\n",
        "        'Historical_Return': [historical_return],\n",
        "        'Volatility': [volatility],\n",
        "        'P/E_Ratio': [p_e_ratio],\n",
        "        'P/B_Ratio': [p_b_ratio],\n",
        "        'PEG_Ratio': [peg_ratio],\n",
        "        'Dividend_Growth_Rate': [avg_dividend_growth],\n",
        "        'Dividend_Payout_Ratio': [dividend_payout_ratio],\n",
        "        'Sharpe_Ratio': [sharpe_ratio]\n",
        "\n",
        "    })\n",
        "\n",
        "    # Add the features to the dataframe\n",
        "    etf_features = pd.concat([etf_features, row])\n",
        "\n",
        "# Display the feature data\n"
      ],
      "metadata": {
        "id": "d2AgIJ9L6sex"
      },
      "execution_count": 8,
      "outputs": []
    },
    {
      "cell_type": "code",
      "source": [
        "from sklearn.model_selection import train_test_split\n",
        "from sklearn.ensemble import RandomForestRegressor\n",
        "from sklearn.metrics import mean_squared_error\n",
        "\n",
        "# Define the features and target\n",
        "X = etf_features[['Average_Dividend_Yield', 'Average_Risk_Adjusted_Score', 'Volatility']]\n",
        "y = etf_features['Historical_Return']\n",
        "\n",
        "# Split data into training and testing sets\n",
        "X_train, X_test, y_train, y_test = train_test_split(X, y, test_size=0.2, random_state=42)\n",
        "\n",
        "# Initialize and train the Random Forest regressor\n",
        "rf_model = RandomForestRegressor(n_estimators=200, random_state=42)\n",
        "rf_model.fit(X_train, y_train)\n",
        "\n",
        "# Predict on the test data\n",
        "y_pred_rf = rf_model.predict(X_test)\n",
        "\n",
        "# Evaluate the model\n",
        "mse_rf = mean_squared_error(y_test, y_pred_rf)\n",
        "print(f\"Random Forest Mean Squared Error: {mse_rf}\")\n",
        "\n",
        "from sklearn.metrics import r2_score\n",
        "r2_rf = r2_score(y_test, y_pred_rf)\n",
        "print(f\"Random Forest R²: {r2_rf}\")\n",
        "\n",
        "from sklearn.metrics import explained_variance_score\n",
        "explained_variance = explained_variance_score(y_test, y_pred_rf)\n",
        "print(f\"Explained Variance: {explained_variance}\")\n",
        "\n",
        "# Display predicted vs actual returns\n",
        "predictions_rf = pd.DataFrame({\n",
        "    'Actual': y_test,\n",
        "    'Predicted': y_pred_rf\n",
        "})\n",
        "#print(predictions_rf)\n"
      ],
      "metadata": {
        "colab": {
          "base_uri": "https://localhost:8080/"
        },
        "id": "VLWlGIf07CdS",
        "outputId": "e6940f71-03d5-41f7-c9cf-cc9fecfb41ae"
      },
      "execution_count": 9,
      "outputs": [
        {
          "output_type": "stream",
          "name": "stdout",
          "text": [
            "Random Forest Mean Squared Error: 0.00401368879749526\n",
            "Random Forest R²: 0.7040874672200477\n",
            "Explained Variance: 0.7536135878686198\n"
          ]
        }
      ]
    },
    {
      "cell_type": "code",
      "source": [
        "# Predict returns for all ETFs\n",
        "X_all = etf_features[['Average_Dividend_Yield', 'Average_Risk_Adjusted_Score', 'Volatility']]\n",
        "etf_features['Predicted_Return'] = rf_model.predict(X_all)\n",
        "\n",
        "# Assuming etf_features and portfolio are already defined DataFrames\n",
        "etf_features = pd.merge(etf_features, portfolio, on='ETF', how='inner')\n",
        "\n",
        "# Calculating Projected_Yield\n",
        "#etf_features['Projected_Yield'] = etf_features['Average_Dividend_Yield'] * etf_features['Investment']\n",
        "\n",
        "# Calculate the $ amount: - needs to be more complicated to account for % of the initial investment.\n",
        "#etf_features['Projected_Earnings'] = etf_features['Predicted_Return'] * initial_investment/len(etf_tickers)\n",
        "\n",
        "# Rank ETFs by predicted return\n",
        "best_etfs = etf_features.sort_values(by='Predicted_Return', ascending=False)\n",
        "\n",
        "#print(best_etfs.info())\n",
        "# Display top N ETFs\n",
        "top_n = 10\n",
        "# Ensure 'best_etfs' DataFrame has 'ETF' and 'Predicted_Return' columns\n",
        "print(best_etfs[['ETF', 'Predicted_Return','Historical_Return']].head(top_n))\n",
        "print(best_etfs['ETF'].head(top_n).to_list())\n"
      ],
      "metadata": {
        "colab": {
          "base_uri": "https://localhost:8080/"
        },
        "id": "VTvM9pLt83b1",
        "outputId": "0e84473d-c159-4414-8b2b-959906acaccd"
      },
      "execution_count": 10,
      "outputs": [
        {
          "output_type": "stream",
          "name": "stdout",
          "text": [
            "     ETF  Predicted_Return  Historical_Return\n",
            "29   FBL          0.259038           0.296252\n",
            "27   USD          0.259038           0.427122\n",
            "24  IBIT          0.231829           0.221707\n",
            "25  MAGS          0.152161           0.170531\n",
            "31   VGT          0.143172           0.143781\n",
            "32   MGK          0.127407           0.128079\n",
            "34   XSD          0.125132           0.141635\n",
            "12  VTWO          0.124713           0.101347\n",
            "1   RING          0.123759           0.109035\n",
            "33   SFY          0.123301           0.153315\n",
            "['FBL', 'USD', 'IBIT', 'MAGS', 'VGT', 'MGK', 'XSD', 'VTWO', 'RING', 'SFY']\n"
          ]
        }
      ]
    }
  ]
}